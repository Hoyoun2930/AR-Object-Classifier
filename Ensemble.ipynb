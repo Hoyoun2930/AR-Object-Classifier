{
 "cells": [
  {
   "cell_type": "code",
   "execution_count": 2,
   "metadata": {},
   "outputs": [
    {
     "name": "stderr",
     "output_type": "stream",
     "text": [
      "Using TensorFlow backend.\n",
      "C:\\Users\\Bloris\\Anaconda3\\envs\\bloris\\lib\\site-packages\\tensorflow\\python\\framework\\dtypes.py:519: FutureWarning: Passing (type, 1) or '1type' as a synonym of type is deprecated; in a future version of numpy, it will be understood as (type, (1,)) / '(1,)type'.\n",
      "  _np_qint8 = np.dtype([(\"qint8\", np.int8, 1)])\n",
      "C:\\Users\\Bloris\\Anaconda3\\envs\\bloris\\lib\\site-packages\\tensorflow\\python\\framework\\dtypes.py:520: FutureWarning: Passing (type, 1) or '1type' as a synonym of type is deprecated; in a future version of numpy, it will be understood as (type, (1,)) / '(1,)type'.\n",
      "  _np_quint8 = np.dtype([(\"quint8\", np.uint8, 1)])\n",
      "C:\\Users\\Bloris\\Anaconda3\\envs\\bloris\\lib\\site-packages\\tensorflow\\python\\framework\\dtypes.py:521: FutureWarning: Passing (type, 1) or '1type' as a synonym of type is deprecated; in a future version of numpy, it will be understood as (type, (1,)) / '(1,)type'.\n",
      "  _np_qint16 = np.dtype([(\"qint16\", np.int16, 1)])\n",
      "C:\\Users\\Bloris\\Anaconda3\\envs\\bloris\\lib\\site-packages\\tensorflow\\python\\framework\\dtypes.py:522: FutureWarning: Passing (type, 1) or '1type' as a synonym of type is deprecated; in a future version of numpy, it will be understood as (type, (1,)) / '(1,)type'.\n",
      "  _np_quint16 = np.dtype([(\"quint16\", np.uint16, 1)])\n",
      "C:\\Users\\Bloris\\Anaconda3\\envs\\bloris\\lib\\site-packages\\tensorflow\\python\\framework\\dtypes.py:523: FutureWarning: Passing (type, 1) or '1type' as a synonym of type is deprecated; in a future version of numpy, it will be understood as (type, (1,)) / '(1,)type'.\n",
      "  _np_qint32 = np.dtype([(\"qint32\", np.int32, 1)])\n",
      "C:\\Users\\Bloris\\Anaconda3\\envs\\bloris\\lib\\site-packages\\tensorflow\\python\\framework\\dtypes.py:528: FutureWarning: Passing (type, 1) or '1type' as a synonym of type is deprecated; in a future version of numpy, it will be understood as (type, (1,)) / '(1,)type'.\n",
      "  np_resource = np.dtype([(\"resource\", np.ubyte, 1)])\n"
     ]
    }
   ],
   "source": [
    "from keras.models import load_model\n",
    "from keras.models import Sequential\n",
    "from keras.layers import Conv2D, MaxPooling2D, ZeroPadding2D, Convolution2D, BatchNormalization\n",
    "from keras.layers import Activation, Dropout, Flatten, Dense\n",
    "from keras.optimizers import SGD\n",
    "from keras import backend as K\n",
    "from keras.utils import np_utils\n",
    "import pandas\n",
    "import sys\n",
    "import os\n",
    "import cv2, numpy as np"
   ]
  },
  {
   "cell_type": "code",
   "execution_count": 3,
   "metadata": {},
   "outputs": [],
   "source": [
    "img_width, img_height = 300, 300\n",
    "epochs = 20\n",
    "batch_size = 20"
   ]
  },
  {
   "cell_type": "code",
   "execution_count": 4,
   "metadata": {},
   "outputs": [],
   "source": [
    "def file_read(filename):\n",
    "    x,x1,x2=[],[],[]\n",
    "    f = open(filename+'.txt', 'r')\n",
    "                \n",
    "    y=list(map(int, f.readline()[:-1]))\n",
    "\n",
    "    for i in range(3):\n",
    "        tmp=list(map(int, f.readline()[:-1].split(' ')[:-1]))\n",
    "        x1.append([tmp])\n",
    "    \n",
    "    f.readline()\n",
    "    f.readline()\n",
    "    \n",
    "    for i in range(3):\n",
    "        tmp=list(map(int, f.readline()[:-1].split(' ')[:-1]))\n",
    "        x2.append([tmp])\n",
    "    \n",
    "    x1 = list(np.array(x1).T)\n",
    "    x2 = list(np.array(x2).T)\n",
    "    \n",
    "    x=[x1,x2]\n",
    "    f.close()\n",
    "    \n",
    "    return x,y"
   ]
  },
  {
   "cell_type": "code",
   "execution_count": 17,
   "metadata": {},
   "outputs": [],
   "source": [
    "def load_data(data_path, input_width,input_height):\n",
    "    print('Loading data... ', end='')\n",
    "    columns = ['data','label']\n",
    "    df = pandas.DataFrame(columns=columns)\n",
    "    x,y=[],[]\n",
    "    for root, subFolder, files in os.walk(data_path):\n",
    "        for item in files:\n",
    "            if item.endswith(\".png\") or item.endswith(\".jpg\") :\n",
    "                fileNamePath = str(os.path.join(root,item))\n",
    "                im = cv2.imread(fileNamePath)\n",
    "                im = cv2.resize(im, (input_width,input_height))\n",
    "                imgArray = np.asarray(im)\n",
    "                \n",
    "                classStr = ''.join(fileNamePath.split(\"\\\\\")[-2:-1])\n",
    "                xtmp,ytmp=file_read(data_path+\"/\"+classStr+\"/\"+item[:-4])\n",
    "                x.append(xtmp)\n",
    "                y.append(ytmp)\n",
    "                if classStr == 'ar':\n",
    "                    classStr = 0\n",
    "                else:\n",
    "                    classStr = 1\n",
    "                    \n",
    "                df.loc[len(df)] = [imgArray, classStr]\n",
    "    data = np.array(df['data'].tolist()) \n",
    "    label = np.array(df['label'].tolist())\n",
    "    print('%d data loaded.'%len(df))\n",
    "    return data,label,x,y"
   ]
  },
  {
   "cell_type": "code",
   "execution_count": 19,
   "metadata": {},
   "outputs": [
    {
     "name": "stdout",
     "output_type": "stream",
     "text": [
      "Loading data... 50 data loaded.\n"
     ]
    }
   ],
   "source": [
    "XC,YC,XH,YH = load_data('data/val', img_width,img_height)\n",
    "XH,YH=np.array(XH),np.array(YH)\n",
    "XH = XH.reshape(len(XH),2,256,3)\n",
    "XH = XH.astype('float32')\n",
    "XH /= 255\n",
    "YH = np_utils.to_categorical(YH)"
   ]
  },
  {
   "cell_type": "code",
   "execution_count": 20,
   "metadata": {},
   "outputs": [],
   "source": [
    "from keras.preprocessing.image import ImageDataGenerator\n",
    "datagen = ImageDataGenerator(\n",
    "    rescale=1./255,\n",
    "    shear_range=0.2,\n",
    "    zoom_range=0.2,\n",
    "    horizontal_flip=True)"
   ]
  },
  {
   "cell_type": "code",
   "execution_count": 21,
   "metadata": {},
   "outputs": [],
   "source": [
    "CNN_Model=load_model(\"weights_cnn_fit_aug.h5\")\n",
    "HNN_Model=load_model(\"weights_hnn_fit_aug.h5\")\n",
    "\n",
    "CNN_res = CNN_Model.predict_proba(XC)\n",
    "HNN_res = HNN_Model.predict_proba(XH)"
   ]
  },
  {
   "cell_type": "code",
   "execution_count": 22,
   "metadata": {},
   "outputs": [],
   "source": [
    "HNN_reshape = HNN_res.T[0].T.reshape(50,1)"
   ]
  },
  {
   "cell_type": "code",
   "execution_count": 23,
   "metadata": {},
   "outputs": [],
   "source": [
    "Ensemble_res = ((HNN_reshape*(0.86)*(0.86)+(CNN_res*(0.81)*(0.81))/((0.81)*(0.81)+(0.86)*(0.86))))"
   ]
  },
  {
   "cell_type": "code",
   "execution_count": 24,
   "metadata": {},
   "outputs": [
    {
     "name": "stdout",
     "output_type": "stream",
     "text": [
      "0.94\n"
     ]
    }
   ],
   "source": [
    "cnt =0\n",
    "for i in range(len(Ensemble_res)):\n",
    "    if Ensemble_res[i] >= 0.5 and YC[i] == 1:\n",
    "        cnt +=1\n",
    "    elif Ensemble_res[i] < 0.5 and YC[i] == 0:\n",
    "        cnt +=1\n",
    "print(cnt/50)"
   ]
  }
 ],
 "metadata": {
  "kernelspec": {
   "display_name": "Python 3",
   "language": "python",
   "name": "python3"
  },
  "language_info": {
   "codemirror_mode": {
    "name": "ipython",
    "version": 3
   },
   "file_extension": ".py",
   "mimetype": "text/x-python",
   "name": "python",
   "nbconvert_exporter": "python",
   "pygments_lexer": "ipython3",
   "version": "3.6.10"
  }
 },
 "nbformat": 4,
 "nbformat_minor": 2
}
