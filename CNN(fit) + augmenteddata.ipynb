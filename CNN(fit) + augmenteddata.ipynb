{
 "cells": [
  {
   "cell_type": "code",
   "execution_count": 12,
   "metadata": {},
   "outputs": [],
   "source": [
    "from keras.models import Sequential\n",
    "from keras.layers import Conv2D, MaxPooling2D, ZeroPadding2D, Convolution2D, BatchNormalization\n",
    "from keras.layers import Activation, Dropout, Flatten, Dense\n",
    "from keras.optimizers import SGD"
   ]
  },
  {
   "cell_type": "code",
   "execution_count": 13,
   "metadata": {},
   "outputs": [],
   "source": [
    "img_width, img_height = 300, 300\n",
    "\n",
    "epochs = 15\n",
    "batch_size = 64"
   ]
  },
  {
   "cell_type": "code",
   "execution_count": 14,
   "metadata": {},
   "outputs": [],
   "source": [
    "import pandas\n",
    "import sys\n",
    "import os\n",
    "import cv2, numpy as np\n",
    "def load_data(data_path, input_width,input_height):\n",
    "    print('Loading data... ', end='')\n",
    "    columns = ['data','label']\n",
    "    df = pandas.DataFrame(columns=columns)\n",
    "    for root, subFolder, files in os.walk(data_path):\n",
    "        for item in files:\n",
    "            if item.endswith(\".png\") or item.endswith(\".jpg\") :\n",
    "                fileNamePath = str(os.path.join(root,item))\n",
    "                im = cv2.imread(fileNamePath)\n",
    "                im = cv2.resize(im, (input_width,input_height))\n",
    "                imgArray = np.asarray(im)\n",
    "                \n",
    "                classStr = ''.join(fileNamePath.split(\"\\\\\")[-2:-1])\n",
    "                if classStr == 'ar':\n",
    "                    classStr = 0\n",
    "                else:\n",
    "                    classStr = 1\n",
    "                \n",
    "                df.loc[len(df)] = [imgArray, classStr]\n",
    "    data = np.array(df['data'].tolist())\n",
    "    label = np.array(df['label'].tolist())\n",
    "    print('%d data loaded.'%len(df))\n",
    "    return data,label"
   ]
  },
  {
   "cell_type": "code",
   "execution_count": 15,
   "metadata": {
    "scrolled": false
   },
   "outputs": [
    {
     "name": "stdout",
     "output_type": "stream",
     "text": [
      "Loading data... 501 data loaded.\n"
     ]
    }
   ],
   "source": [
    "import random\n",
    "\n",
    "XData,YData = load_data('data_augmented', img_width,img_height)\n",
    "\n",
    "s = np.arange(XData.shape[0])\n",
    "np.random.shuffle(s) \n",
    "n_train = round(XData.shape[0]*0.7)\n",
    "idx_train = s[:n_train]\n",
    "idx_val = s[n_train:]\n",
    "\n",
    "XTrain,YTrain = XData[idx_train],YData[idx_train]\n",
    "XVal,YVal = XData[idx_val],YData[idx_val]"
   ]
  },
  {
   "cell_type": "code",
   "execution_count": 16,
   "metadata": {
    "scrolled": false
   },
   "outputs": [],
   "source": [
    "from keras import optimizers\n",
    "\n",
    "input_shape = (img_height,img_width,3)\n",
    "\n",
    "model = Sequential()\n",
    "model.add(Conv2D(32, (3, 3), input_shape=input_shape))\n",
    "model.add(Activation('elu'))\n",
    "model.add(MaxPooling2D(pool_size=(2, 2)))\n",
    "\n",
    "model.add(Conv2D(32, (3, 3)))\n",
    "model.add(Activation('elu'))\n",
    "model.add(MaxPooling2D(pool_size=(2, 2)))\n",
    "\n",
    "model.add(Conv2D(64, (3, 3)))\n",
    "model.add(Activation('elu'))\n",
    "model.add(MaxPooling2D(pool_size=(2, 2)))\n",
    "\n",
    "model.add(Flatten())\n",
    "model.add(Dense(64))\n",
    "model.add(Activation('elu'))\n",
    "model.add(Dropout(0.5))\n",
    "model.add(Dense(1))\n",
    "model.add(Activation('sigmoid'))\n",
    "\n",
    "Nadam = optimizers.Nadam(lr=0.0005, beta_1=0.9, beta_2=0.999, epsilon=None, schedule_decay=0.003)\n",
    "model.compile(loss='binary_crossentropy', optimizer=Nadam, metrics=['accuracy'])"
   ]
  },
  {
   "cell_type": "code",
   "execution_count": null,
   "metadata": {},
   "outputs": [
    {
     "name": "stdout",
     "output_type": "stream",
     "text": [
      "Train on 351 samples, validate on 150 samples\n",
      "Epoch 1/15\n",
      "351/351 [==============================] - 19s 53ms/step - loss: 5.4506 - acc: 0.5755 - val_loss: 7.3148 - val_acc: 0.5067\n",
      "Epoch 2/15\n",
      "320/351 [==========================>...] - ETA: 1s - loss: 5.5499 - acc: 0.5906"
     ]
    }
   ],
   "source": [
    "model.fit(XTrain,YTrain, epochs=epochs, batch_size=batch_size, validation_data=(XVal,YVal))\n",
    "model.save('weights_cnn_fit_aug.h5')"
   ]
  }
 ],
 "metadata": {
  "kernelspec": {
   "display_name": "Python 3",
   "language": "python",
   "name": "python3"
  },
  "language_info": {
   "codemirror_mode": {
    "name": "ipython",
    "version": 3
   },
   "file_extension": ".py",
   "mimetype": "text/x-python",
   "name": "python",
   "nbconvert_exporter": "python",
   "pygments_lexer": "ipython3",
   "version": "3.6.10"
  }
 },
 "nbformat": 4,
 "nbformat_minor": 2
}
